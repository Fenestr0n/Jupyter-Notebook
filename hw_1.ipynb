{
 "cells": [
  {
   "cell_type": "markdown",
   "metadata": {
    "id": "I503zPFGLE_E",
    "pycharm": {
     "name": "#%% md\n"
    }
   },
   "source": [
    "# Практическое задание 1 (обязательное)"
   ]
  },
  {
   "cell_type": "markdown",
   "metadata": {
    "id": "8KZ0rg8GLYr0",
    "pycharm": {
     "name": "#%% md\n"
    }
   },
   "source": [
    "## Исходные данные\n",
    "\n",
    "В словаре `dict_users_network` заданы взаимосвязи (`дружба`) пользователей социальной сети, где `ключ` -- имя пользователя; `значение` -- список друзей пользователя. Для простоты будем считать, что отношение `дружба` не является биективным, т.е. если у `A` другом является `B`, то не обязательно, что у `B` в друзьях `A`. \n",
    "\n",
    "\n",
    "\n",
    "## Задание (обязательное) \n",
    "- Создайте функцию, определяющую количество друзей у выбранного (каждого) пользователя.\n",
    "- Создайте функцию, выводящую на экран пользователей, отсортированных по количеству друзей.\n",
    "- Опубликуйте ссылку на файл расширения `ipynb`, прикрепив его в этом задании.\n",
    "\n",
    "## Задание (факультативное)\n",
    "- Создайте функцию, определяющую наличие однофамильцев.\n",
    "- Создайте функцию, определяющую наличие пользователей с одинаковыми инициалами.\n",
    "- Создайте функцию, возвращающую список уникальных пользователей сети в формате `Фамилия И.О.`.\n",
    "- Создайте функцию, возвращающую список из уникальных фамилий  пользователей сети."
   ]
  },
  {
   "cell_type": "code",
   "execution_count": 1,
   "metadata": {
    "cellView": "code",
    "id": "cStt-oHwHQuT",
    "pycharm": {
     "name": "#%%\n"
    }
   },
   "outputs": [],
   "source": [
    "dict_users_network = {\n",
    "    'С.В. Сидоров': ['П.В. Сидоров', 'И.И. Иванов', 'А.С. Никифоров',\n",
    "                     'Ф.С. Афеногонов', 'А.К. Парфенов'],\n",
    "    'П.В. Сидоров': ['С.В. Сидоров', 'А.С. Шебалова', 'М.Л. Кривов'],\n",
    "    'И.И. Иванов': ['Л.Т. Тимофеев', 'С.В. Сидоров', 'П.В. Сидоров',\n",
    "                    'М.Л. Кривов'],\n",
    "    'А.С. Никифоров': ['С.В. Сидоров', 'П.В. Сидоров'],\n",
    "    'Ф.С. Афеногонов': ['С.В. Сидоров', 'П.В. Сидоров', 'А.К. Парфенов'],\n",
    "    'А.С. Шебалова': ['Л.Т. Тимофеев'],\n",
    "    'Л.Т. Тимофеев': ['К.К. Петров', 'А.С. Крылов']\n",
    "}"
   ]
  },
  {
   "cell_type": "markdown",
   "metadata": {
    "id": "MTHEENPpljnd",
    "pycharm": {
     "name": "#%% md\n"
    }
   },
   "source": [
    "##### Создайте функцию, определяющую количество друзей у выбранного (каждого) пользователя."
   ]
  },
  {
   "cell_type": "code",
   "execution_count": 2,
   "metadata": {
    "colab": {
     "base_uri": "https://localhost:8080/"
    },
    "id": "EUKFn9uISpw0",
    "outputId": "2ffdbf04-125e-454a-924d-b3705695c392",
    "pycharm": {
     "name": "#%%\n"
    }
   },
   "outputs": [
    {
     "name": "stdout",
     "output_type": "stream",
     "text": [
      "Пользователь: С.В. Сидоров; \tКоличество друзей = 5\n",
      "Пользователь: П.В. Сидоров; \tКоличество друзей = 3\n",
      "Пользователь: И.И. Иванов; \tКоличество друзей = 4\n",
      "Пользователь: А.С. Никифоров; \tКоличество друзей = 2\n",
      "Пользователь: Ф.С. Афеногонов; \tКоличество друзей = 3\n",
      "Пользователь: А.С. Шебалова; \tКоличество друзей = 1\n",
      "Пользователь: Л.Т. Тимофеев; \tКоличество друзей = 2\n",
      "\n",
      "Пользователь: Л.Т. Тимофеев; \tКоличество друзей = 2\n",
      "Пользователь: И.И. Иванов; \tКоличество друзей = 4\n",
      "\n"
     ]
    }
   ],
   "source": [
    "def number_friends(dict_users, *user):\n",
    "  for i in user:\n",
    "    print(f\"Пользователь: {i}; \\tКоличество друзей = {len(dict_users[i])}\")\n",
    "  else:\n",
    "    print()\n",
    "\n",
    "number_friends(dict_users_network, *dict_users_network.keys())\n",
    "number_friends(dict_users_network, 'Л.Т. Тимофеев', 'И.И. Иванов')"
   ]
  },
  {
   "cell_type": "markdown",
   "metadata": {
    "id": "udj1jYlPl6s3",
    "pycharm": {
     "name": "#%% md\n"
    }
   },
   "source": [
    "##### Создайте функцию, выводящую на экран пользователей, отсортированных по количеству друзей."
   ]
  },
  {
   "cell_type": "code",
   "execution_count": 3,
   "metadata": {
    "colab": {
     "base_uri": "https://localhost:8080/"
    },
    "id": "DaOc-JeyOhJV",
    "outputId": "885d775d-4bde-4b4a-de02-18230de53915",
    "pycharm": {
     "name": "#%%\n"
    }
   },
   "outputs": [
    {
     "name": "stdout",
     "output_type": "stream",
     "text": [
      "Пользователь: С.В. Сидоров; \tКоличество друзей ^ 5\n",
      "Пользователь: И.И. Иванов; \tКоличество друзей ^ 4\n",
      "Пользователь: Ф.С. Афеногонов; \tКоличество друзей ^ 3\n",
      "Пользователь: П.В. Сидоров; \tКоличество друзей ^ 3\n",
      "Пользователь: Л.Т. Тимофеев; \tКоличество друзей ^ 2\n",
      "Пользователь: А.С. Никифоров; \tКоличество друзей ^ 2\n",
      "Пользователь: А.С. Шебалова; \tКоличество друзей ^ 1\n"
     ]
    }
   ],
   "source": [
    "def sorted_users(dict_users):\n",
    "  temp_list = []\n",
    "  for key, value in dict_users.items():\n",
    "    temp_list.append((len(value), key))\n",
    "  for i in sorted(temp_list, reverse = True):\n",
    "    print(f\"Пользователь: {i[1]}; \\tКоличество друзей ^ {i[0]}\")    \n",
    "\n",
    "sorted_users(dict_users_network)"
   ]
  },
  {
   "cell_type": "markdown",
   "metadata": {
    "id": "FG4e9bHfxSQR",
    "pycharm": {
     "name": "#%% md\n"
    }
   },
   "source": [
    "##### Создайте функцию, определяющую наличие однофамильцев."
   ]
  },
  {
   "cell_type": "code",
   "execution_count": 4,
   "metadata": {
    "colab": {
     "base_uri": "https://localhost:8080/"
    },
    "id": "WwWwvcSPS2VF",
    "outputId": "182eb38f-5ea6-48c9-f8e1-5ce52ce67cc2",
    "pycharm": {
     "name": "#%%\n"
    }
   },
   "outputs": [
    {
     "name": "stdout",
     "output_type": "stream",
     "text": [
      "Однофамильцы социальной сети:\n",
      "П.В. Сидоров\n",
      "С.В. Сидоров\n"
     ]
    }
   ],
   "source": [
    "def find_homonym(dict_users):\n",
    "  users_network = set()\n",
    "  temp = set()\n",
    "  homonym = set()\n",
    "\n",
    "  for user in dict_users.keys():\n",
    "    users_network.add(user.strip())\n",
    "    for friend in dict_users[user]:\n",
    "      users_network.add(friend.strip())\n",
    "\n",
    "  last_names = [key.split()[1] for key in users_network]\n",
    "  dublicates = {x for x in last_names if x in temp or (temp.add(x) or False)}\n",
    "\n",
    "  for user in users_network:\n",
    "    for item in dublicates:\n",
    "      if user.find(item) != -1:\n",
    "        homonym.add(user)\n",
    "\n",
    "  if len(homonym) > 0:\n",
    "    print(\"Однофамильцы социальной сети:\")\n",
    "    for i in homonym:\n",
    "      print(i)\n",
    "  else:\n",
    "     print(\"Однофамильцев нет.\")\n",
    "\n",
    "\n",
    "find_homonym(dict_users_network)"
   ]
  },
  {
   "cell_type": "markdown",
   "metadata": {
    "id": "zROIFHY9xXdD",
    "pycharm": {
     "name": "#%% md\n"
    }
   },
   "source": [
    "##### Создайте функцию, определяющую наличие пользователей с одинаковыми инициалами."
   ]
  },
  {
   "cell_type": "code",
   "execution_count": 5,
   "metadata": {
    "colab": {
     "base_uri": "https://localhost:8080/"
    },
    "id": "ERUHgalOTM1B",
    "outputId": "870f1702-46a1-46db-fe1e-fd8e722be767",
    "pycharm": {
     "name": "#%%\n"
    }
   },
   "outputs": [
    {
     "name": "stdout",
     "output_type": "stream",
     "text": [
      "Пользователи с одинаковыми инициалами:\n",
      "А.С. Крылов\n",
      "А.С. Шебалова\n",
      "А.С. Никифоров\n"
     ]
    }
   ],
   "source": [
    "def same_initials(dict_users):\n",
    "  users_network = set()\n",
    "  temp = set()\n",
    "  initials = set()\n",
    "  \n",
    "  for user in dict_users.keys():\n",
    "    users_network.add(user.strip())\n",
    "    for friend in dict_users[user]:\n",
    "      users_network.add(friend.strip())\n",
    "\n",
    "  names = [key.split()[0] for key in users_network]\n",
    "  dublicates = {x for x in names if x in temp or (temp.add(x) or False)}\n",
    "\n",
    "  for user in users_network:\n",
    "    for item in dublicates:\n",
    "      if user.find(item) != -1:\n",
    "        initials.add(user)\n",
    "\n",
    "  if len(initials) > 0:\n",
    "    print(\"Пользователи с одинаковыми инициалами:\")\n",
    "    for i in initials:\n",
    "      print(i)\n",
    "  else:\n",
    "     print(\"Нет пользователей с одинаковыми инициалами.\")\n",
    "\n",
    "\n",
    "same_initials(dict_users_network)"
   ]
  },
  {
   "cell_type": "markdown",
   "metadata": {
    "id": "gL0bgWbzy_7Q",
    "pycharm": {
     "name": "#%% md\n"
    }
   },
   "source": [
    "##### Создайте функцию, возвращающую список уникальных пользователей сети в формате `Фамилия И.О.`"
   ]
  },
  {
   "cell_type": "code",
   "execution_count": 6,
   "metadata": {
    "colab": {
     "base_uri": "https://localhost:8080/"
    },
    "id": "FWFE44gwTVnk",
    "outputId": "679e0d58-e57d-48f6-c8f4-1193d3865d33",
    "pycharm": {
     "name": "#%%\n"
    }
   },
   "outputs": [
    {
     "name": "stdout",
     "output_type": "stream",
     "text": [
      "['Кривов М.Л.', 'Шебалова А.С.', 'Крылов А.С.', 'Сидоров П.В.', 'Афеногонов Ф.С.', 'Парфенов А.К.', 'Петров К.К.', 'Тимофеев Л.Т.', 'Иванов И.И.', 'Сидоров С.В.', 'Никифоров А.С.']\n"
     ]
    }
   ],
   "source": [
    "def unique_users(dict_users):\n",
    "  result = []\n",
    "  users_network = set()\n",
    "\n",
    "  for user in dict_users.keys():\n",
    "    users_network.add(user.strip())\n",
    "    for friend in dict_users[user]:\n",
    "      users_network.add(friend.strip())\n",
    "  \n",
    "  for user in users_network:\n",
    "    name, last_name = user.split()\n",
    "    result.append(\" \".join([last_name, name]))\n",
    "  \n",
    "  return result\n",
    "\n",
    "lst = unique_users(dict_users_network)\n",
    "print(lst)"
   ]
  },
  {
   "cell_type": "markdown",
   "metadata": {
    "id": "KhOG16bhMn1L",
    "pycharm": {
     "name": "#%% md\n"
    }
   },
   "source": [
    "##### Создайте функцию, возвращающую список из уникальных фамилий  пользователей сети."
   ]
  },
  {
   "cell_type": "code",
   "execution_count": 7,
   "metadata": {
    "colab": {
     "base_uri": "https://localhost:8080/"
    },
    "id": "krtAhtqhT6mt",
    "outputId": "0e186e71-d528-44cb-fd03-d226a839f8f1",
    "pycharm": {
     "name": "#%%\n"
    }
   },
   "outputs": [
    {
     "name": "stdout",
     "output_type": "stream",
     "text": [
      "['Сидоров', 'Петров', 'Шебалова', 'Никифоров', 'Парфенов', 'Афеногонов', 'Иванов', 'Тимофеев', 'Крылов', 'Кривов']\n"
     ]
    }
   ],
   "source": [
    "def unique_surnames(dict_users):\n",
    "  users_network = set()\n",
    "\n",
    "  for user in dict_users.keys():\n",
    "    users_network.add(user.strip())\n",
    "    for friend in dict_users[user]:\n",
    "      users_network.add(friend.strip())\n",
    "  \n",
    "  surnames = {key.split()[1] for key in users_network}\n",
    "  return list(surnames)\n",
    "\n",
    "lst = unique_surnames(dict_users_network)\n",
    "print(lst)"
   ]
  }
 ],
 "metadata": {
  "colab": {
   "collapsed_sections": [],
   "name": "hw_1.ipynb",
   "provenance": []
  },
  "kernelspec": {
   "display_name": "Python 3",
   "name": "python3"
  },
  "language_info": {
   "name": "python"
  }
 },
 "nbformat": 4,
 "nbformat_minor": 0
}
